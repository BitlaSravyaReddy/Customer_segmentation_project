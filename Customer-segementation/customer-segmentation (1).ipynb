{
 "cells": [
  {
   "cell_type": "code",
   "execution_count": 29,
   "id": "d0661647-7aae-4523-bc4e-c3248f1863f7",
   "metadata": {},
   "outputs": [],
   "source": [
    "import pandas as pd\n",
    "df = pd.read_csv(\"data.csv\", encoding='unicode_escape')\n",
    "\n"
   ]
  },
  {
   "cell_type": "code",
   "execution_count": 30,
   "id": "abc14b27-36c9-4586-a6e9-7e7a341a1ed9",
   "metadata": {},
   "outputs": [
    {
     "data": {
      "text/html": [
       "<div>\n",
       "<style scoped>\n",
       "    .dataframe tbody tr th:only-of-type {\n",
       "        vertical-align: middle;\n",
       "    }\n",
       "\n",
       "    .dataframe tbody tr th {\n",
       "        vertical-align: top;\n",
       "    }\n",
       "\n",
       "    .dataframe thead th {\n",
       "        text-align: right;\n",
       "    }\n",
       "</style>\n",
       "<table border=\"1\" class=\"dataframe\">\n",
       "  <thead>\n",
       "    <tr style=\"text-align: right;\">\n",
       "      <th></th>\n",
       "      <th>InvoiceNo</th>\n",
       "      <th>StockCode</th>\n",
       "      <th>Description</th>\n",
       "      <th>Quantity</th>\n",
       "      <th>InvoiceDate</th>\n",
       "      <th>UnitPrice</th>\n",
       "      <th>CustomerID</th>\n",
       "      <th>Country</th>\n",
       "    </tr>\n",
       "  </thead>\n",
       "  <tbody>\n",
       "    <tr>\n",
       "      <th>0</th>\n",
       "      <td>536365</td>\n",
       "      <td>85123A</td>\n",
       "      <td>WHITE HANGING HEART T-LIGHT HOLDER</td>\n",
       "      <td>6</td>\n",
       "      <td>12/1/2010 8:26</td>\n",
       "      <td>2.55</td>\n",
       "      <td>17850.0</td>\n",
       "      <td>United Kingdom</td>\n",
       "    </tr>\n",
       "    <tr>\n",
       "      <th>1</th>\n",
       "      <td>536365</td>\n",
       "      <td>71053</td>\n",
       "      <td>WHITE METAL LANTERN</td>\n",
       "      <td>6</td>\n",
       "      <td>12/1/2010 8:26</td>\n",
       "      <td>3.39</td>\n",
       "      <td>17850.0</td>\n",
       "      <td>United Kingdom</td>\n",
       "    </tr>\n",
       "    <tr>\n",
       "      <th>2</th>\n",
       "      <td>536365</td>\n",
       "      <td>84406B</td>\n",
       "      <td>CREAM CUPID HEARTS COAT HANGER</td>\n",
       "      <td>8</td>\n",
       "      <td>12/1/2010 8:26</td>\n",
       "      <td>2.75</td>\n",
       "      <td>17850.0</td>\n",
       "      <td>United Kingdom</td>\n",
       "    </tr>\n",
       "    <tr>\n",
       "      <th>3</th>\n",
       "      <td>536365</td>\n",
       "      <td>84029G</td>\n",
       "      <td>KNITTED UNION FLAG HOT WATER BOTTLE</td>\n",
       "      <td>6</td>\n",
       "      <td>12/1/2010 8:26</td>\n",
       "      <td>3.39</td>\n",
       "      <td>17850.0</td>\n",
       "      <td>United Kingdom</td>\n",
       "    </tr>\n",
       "    <tr>\n",
       "      <th>4</th>\n",
       "      <td>536365</td>\n",
       "      <td>84029E</td>\n",
       "      <td>RED WOOLLY HOTTIE WHITE HEART.</td>\n",
       "      <td>6</td>\n",
       "      <td>12/1/2010 8:26</td>\n",
       "      <td>3.39</td>\n",
       "      <td>17850.0</td>\n",
       "      <td>United Kingdom</td>\n",
       "    </tr>\n",
       "  </tbody>\n",
       "</table>\n",
       "</div>"
      ],
      "text/plain": [
       "  InvoiceNo StockCode                          Description  Quantity  \\\n",
       "0    536365    85123A   WHITE HANGING HEART T-LIGHT HOLDER         6   \n",
       "1    536365     71053                  WHITE METAL LANTERN         6   \n",
       "2    536365    84406B       CREAM CUPID HEARTS COAT HANGER         8   \n",
       "3    536365    84029G  KNITTED UNION FLAG HOT WATER BOTTLE         6   \n",
       "4    536365    84029E       RED WOOLLY HOTTIE WHITE HEART.         6   \n",
       "\n",
       "      InvoiceDate  UnitPrice  CustomerID         Country  \n",
       "0  12/1/2010 8:26       2.55     17850.0  United Kingdom  \n",
       "1  12/1/2010 8:26       3.39     17850.0  United Kingdom  \n",
       "2  12/1/2010 8:26       2.75     17850.0  United Kingdom  \n",
       "3  12/1/2010 8:26       3.39     17850.0  United Kingdom  \n",
       "4  12/1/2010 8:26       3.39     17850.0  United Kingdom  "
      ]
     },
     "execution_count": 30,
     "metadata": {},
     "output_type": "execute_result"
    }
   ],
   "source": [
    "df.head()"
   ]
  },
  {
   "cell_type": "markdown",
   "id": "8f25274c-2c3a-4101-b13a-42c6283de5ab",
   "metadata": {},
   "source": [
    "## Recency\n"
   ]
  },
  {
   "cell_type": "code",
   "execution_count": 35,
   "id": "8ac25688-1342-4b17-a175-68a32a88528c",
   "metadata": {},
   "outputs": [
    {
     "name": "stderr",
     "output_type": "stream",
     "text": [
      "C:\\Users\\Hp\\AppData\\Local\\Temp\\ipykernel_14252\\538584606.py:8: SettingWithCopyWarning: \n",
      "A value is trying to be set on a copy of a slice from a DataFrame.\n",
      "Try using .loc[row_indexer,col_indexer] = value instead\n",
      "\n",
      "See the caveats in the documentation: https://pandas.pydata.org/pandas-docs/stable/user_guide/indexing.html#returning-a-view-versus-a-copy\n",
      "  df_rec['recency'] = (df_rec['Date'] - pd.to_datetime(min(df_rec['Date']))).dt.days\n"
     ]
    }
   ],
   "source": [
    "df['Date']=pd.to_datetime(df['InvoiceDate'])\n",
    "df['rank'] = df.sort_values(['CustomerID', 'Date']) \\\n",
    "               .groupby(['CustomerID'])['Date'] \\\n",
    "               .rank(method='min') \\\n",
    "               .fillna(0).astype(int)  # Replace NaN with 0 before converting to int\n",
    "\n",
    "df_rec=df[df['rank']==1]\n",
    "df_rec['recency'] = (df_rec['Date'] - pd.to_datetime(min(df_rec['Date']))).dt.days"
   ]
  },
  {
   "cell_type": "code",
   "execution_count": 36,
   "id": "a66077d6-3389-4908-a179-9f7c4fa908f2",
   "metadata": {},
   "outputs": [
    {
     "data": {
      "text/html": [
       "<div>\n",
       "<style scoped>\n",
       "    .dataframe tbody tr th:only-of-type {\n",
       "        vertical-align: middle;\n",
       "    }\n",
       "\n",
       "    .dataframe tbody tr th {\n",
       "        vertical-align: top;\n",
       "    }\n",
       "\n",
       "    .dataframe thead th {\n",
       "        text-align: right;\n",
       "    }\n",
       "</style>\n",
       "<table border=\"1\" class=\"dataframe\">\n",
       "  <thead>\n",
       "    <tr style=\"text-align: right;\">\n",
       "      <th></th>\n",
       "      <th>InvoiceNo</th>\n",
       "      <th>StockCode</th>\n",
       "      <th>Description</th>\n",
       "      <th>Quantity</th>\n",
       "      <th>InvoiceDate</th>\n",
       "      <th>UnitPrice</th>\n",
       "      <th>CustomerID</th>\n",
       "      <th>Country</th>\n",
       "      <th>Date</th>\n",
       "      <th>rank</th>\n",
       "      <th>recency</th>\n",
       "    </tr>\n",
       "  </thead>\n",
       "  <tbody>\n",
       "    <tr>\n",
       "      <th>0</th>\n",
       "      <td>536365</td>\n",
       "      <td>85123A</td>\n",
       "      <td>WHITE HANGING HEART T-LIGHT HOLDER</td>\n",
       "      <td>6</td>\n",
       "      <td>12/1/2010 8:26</td>\n",
       "      <td>2.55</td>\n",
       "      <td>17850.0</td>\n",
       "      <td>United Kingdom</td>\n",
       "      <td>2010-12-01 08:26:00</td>\n",
       "      <td>1</td>\n",
       "      <td>0</td>\n",
       "    </tr>\n",
       "    <tr>\n",
       "      <th>1</th>\n",
       "      <td>536365</td>\n",
       "      <td>71053</td>\n",
       "      <td>WHITE METAL LANTERN</td>\n",
       "      <td>6</td>\n",
       "      <td>12/1/2010 8:26</td>\n",
       "      <td>3.39</td>\n",
       "      <td>17850.0</td>\n",
       "      <td>United Kingdom</td>\n",
       "      <td>2010-12-01 08:26:00</td>\n",
       "      <td>1</td>\n",
       "      <td>0</td>\n",
       "    </tr>\n",
       "    <tr>\n",
       "      <th>2</th>\n",
       "      <td>536365</td>\n",
       "      <td>84406B</td>\n",
       "      <td>CREAM CUPID HEARTS COAT HANGER</td>\n",
       "      <td>8</td>\n",
       "      <td>12/1/2010 8:26</td>\n",
       "      <td>2.75</td>\n",
       "      <td>17850.0</td>\n",
       "      <td>United Kingdom</td>\n",
       "      <td>2010-12-01 08:26:00</td>\n",
       "      <td>1</td>\n",
       "      <td>0</td>\n",
       "    </tr>\n",
       "    <tr>\n",
       "      <th>3</th>\n",
       "      <td>536365</td>\n",
       "      <td>84029G</td>\n",
       "      <td>KNITTED UNION FLAG HOT WATER BOTTLE</td>\n",
       "      <td>6</td>\n",
       "      <td>12/1/2010 8:26</td>\n",
       "      <td>3.39</td>\n",
       "      <td>17850.0</td>\n",
       "      <td>United Kingdom</td>\n",
       "      <td>2010-12-01 08:26:00</td>\n",
       "      <td>1</td>\n",
       "      <td>0</td>\n",
       "    </tr>\n",
       "    <tr>\n",
       "      <th>4</th>\n",
       "      <td>536365</td>\n",
       "      <td>84029E</td>\n",
       "      <td>RED WOOLLY HOTTIE WHITE HEART.</td>\n",
       "      <td>6</td>\n",
       "      <td>12/1/2010 8:26</td>\n",
       "      <td>3.39</td>\n",
       "      <td>17850.0</td>\n",
       "      <td>United Kingdom</td>\n",
       "      <td>2010-12-01 08:26:00</td>\n",
       "      <td>1</td>\n",
       "      <td>0</td>\n",
       "    </tr>\n",
       "  </tbody>\n",
       "</table>\n",
       "</div>"
      ],
      "text/plain": [
       "  InvoiceNo StockCode                          Description  Quantity  \\\n",
       "0    536365    85123A   WHITE HANGING HEART T-LIGHT HOLDER         6   \n",
       "1    536365     71053                  WHITE METAL LANTERN         6   \n",
       "2    536365    84406B       CREAM CUPID HEARTS COAT HANGER         8   \n",
       "3    536365    84029G  KNITTED UNION FLAG HOT WATER BOTTLE         6   \n",
       "4    536365    84029E       RED WOOLLY HOTTIE WHITE HEART.         6   \n",
       "\n",
       "      InvoiceDate  UnitPrice  CustomerID         Country                Date  \\\n",
       "0  12/1/2010 8:26       2.55     17850.0  United Kingdom 2010-12-01 08:26:00   \n",
       "1  12/1/2010 8:26       3.39     17850.0  United Kingdom 2010-12-01 08:26:00   \n",
       "2  12/1/2010 8:26       2.75     17850.0  United Kingdom 2010-12-01 08:26:00   \n",
       "3  12/1/2010 8:26       3.39     17850.0  United Kingdom 2010-12-01 08:26:00   \n",
       "4  12/1/2010 8:26       3.39     17850.0  United Kingdom 2010-12-01 08:26:00   \n",
       "\n",
       "   rank  recency  \n",
       "0     1        0  \n",
       "1     1        0  \n",
       "2     1        0  \n",
       "3     1        0  \n",
       "4     1        0  "
      ]
     },
     "execution_count": 36,
     "metadata": {},
     "output_type": "execute_result"
    }
   ],
   "source": [
    "df_rec.head()"
   ]
  },
  {
   "cell_type": "markdown",
   "id": "0b978e79-2e38-42fd-884a-d42dfa1de6c4",
   "metadata": {},
   "source": [
    "## Frequency\n"
   ]
  },
  {
   "cell_type": "code",
   "execution_count": 37,
   "id": "6fc26915-fe8c-4fe9-ab63-c66af6c61059",
   "metadata": {},
   "outputs": [],
   "source": [
    "freq=df_rec.groupby('CustomerID')['Date'].count()\n",
    "df_freq=pd.DataFrame(freq).reset_index()\n",
    "df_freq.columns=['CustomerID','Frequency']\n",
    "rec_freq=df_freq.merge(df_rec,on='CustomerID')"
   ]
  },
  {
   "cell_type": "code",
   "execution_count": 38,
   "id": "4a02f9a1-515a-48a5-98a6-a5d044e6dac8",
   "metadata": {},
   "outputs": [
    {
     "data": {
      "text/html": [
       "<div>\n",
       "<style scoped>\n",
       "    .dataframe tbody tr th:only-of-type {\n",
       "        vertical-align: middle;\n",
       "    }\n",
       "\n",
       "    .dataframe tbody tr th {\n",
       "        vertical-align: top;\n",
       "    }\n",
       "\n",
       "    .dataframe thead th {\n",
       "        text-align: right;\n",
       "    }\n",
       "</style>\n",
       "<table border=\"1\" class=\"dataframe\">\n",
       "  <thead>\n",
       "    <tr style=\"text-align: right;\">\n",
       "      <th></th>\n",
       "      <th>CustomerID</th>\n",
       "      <th>Frequency</th>\n",
       "      <th>InvoiceNo</th>\n",
       "      <th>StockCode</th>\n",
       "      <th>Description</th>\n",
       "      <th>Quantity</th>\n",
       "      <th>InvoiceDate</th>\n",
       "      <th>UnitPrice</th>\n",
       "      <th>Country</th>\n",
       "      <th>Date</th>\n",
       "      <th>rank</th>\n",
       "      <th>recency</th>\n",
       "    </tr>\n",
       "  </thead>\n",
       "  <tbody>\n",
       "    <tr>\n",
       "      <th>0</th>\n",
       "      <td>12346.0</td>\n",
       "      <td>1</td>\n",
       "      <td>541431</td>\n",
       "      <td>23166</td>\n",
       "      <td>MEDIUM CERAMIC TOP STORAGE JAR</td>\n",
       "      <td>74215</td>\n",
       "      <td>1/18/2011 10:01</td>\n",
       "      <td>1.04</td>\n",
       "      <td>United Kingdom</td>\n",
       "      <td>2011-01-18 10:01:00</td>\n",
       "      <td>1</td>\n",
       "      <td>48</td>\n",
       "    </tr>\n",
       "    <tr>\n",
       "      <th>1</th>\n",
       "      <td>12347.0</td>\n",
       "      <td>31</td>\n",
       "      <td>537626</td>\n",
       "      <td>85116</td>\n",
       "      <td>BLACK CANDELABRA T-LIGHT HOLDER</td>\n",
       "      <td>12</td>\n",
       "      <td>12/7/2010 14:57</td>\n",
       "      <td>2.10</td>\n",
       "      <td>Iceland</td>\n",
       "      <td>2010-12-07 14:57:00</td>\n",
       "      <td>1</td>\n",
       "      <td>6</td>\n",
       "    </tr>\n",
       "    <tr>\n",
       "      <th>2</th>\n",
       "      <td>12347.0</td>\n",
       "      <td>31</td>\n",
       "      <td>537626</td>\n",
       "      <td>22375</td>\n",
       "      <td>AIRLINE BAG VINTAGE JET SET BROWN</td>\n",
       "      <td>4</td>\n",
       "      <td>12/7/2010 14:57</td>\n",
       "      <td>4.25</td>\n",
       "      <td>Iceland</td>\n",
       "      <td>2010-12-07 14:57:00</td>\n",
       "      <td>1</td>\n",
       "      <td>6</td>\n",
       "    </tr>\n",
       "    <tr>\n",
       "      <th>3</th>\n",
       "      <td>12347.0</td>\n",
       "      <td>31</td>\n",
       "      <td>537626</td>\n",
       "      <td>71477</td>\n",
       "      <td>COLOUR GLASS. STAR T-LIGHT HOLDER</td>\n",
       "      <td>12</td>\n",
       "      <td>12/7/2010 14:57</td>\n",
       "      <td>3.25</td>\n",
       "      <td>Iceland</td>\n",
       "      <td>2010-12-07 14:57:00</td>\n",
       "      <td>1</td>\n",
       "      <td>6</td>\n",
       "    </tr>\n",
       "    <tr>\n",
       "      <th>4</th>\n",
       "      <td>12347.0</td>\n",
       "      <td>31</td>\n",
       "      <td>537626</td>\n",
       "      <td>22492</td>\n",
       "      <td>MINI PAINT SET VINTAGE</td>\n",
       "      <td>36</td>\n",
       "      <td>12/7/2010 14:57</td>\n",
       "      <td>0.65</td>\n",
       "      <td>Iceland</td>\n",
       "      <td>2010-12-07 14:57:00</td>\n",
       "      <td>1</td>\n",
       "      <td>6</td>\n",
       "    </tr>\n",
       "  </tbody>\n",
       "</table>\n",
       "</div>"
      ],
      "text/plain": [
       "   CustomerID  Frequency InvoiceNo StockCode  \\\n",
       "0     12346.0          1    541431     23166   \n",
       "1     12347.0         31    537626     85116   \n",
       "2     12347.0         31    537626     22375   \n",
       "3     12347.0         31    537626     71477   \n",
       "4     12347.0         31    537626     22492   \n",
       "\n",
       "                         Description  Quantity      InvoiceDate  UnitPrice  \\\n",
       "0     MEDIUM CERAMIC TOP STORAGE JAR     74215  1/18/2011 10:01       1.04   \n",
       "1    BLACK CANDELABRA T-LIGHT HOLDER        12  12/7/2010 14:57       2.10   \n",
       "2  AIRLINE BAG VINTAGE JET SET BROWN         4  12/7/2010 14:57       4.25   \n",
       "3  COLOUR GLASS. STAR T-LIGHT HOLDER        12  12/7/2010 14:57       3.25   \n",
       "4            MINI PAINT SET VINTAGE         36  12/7/2010 14:57       0.65   \n",
       "\n",
       "          Country                Date  rank  recency  \n",
       "0  United Kingdom 2011-01-18 10:01:00     1       48  \n",
       "1         Iceland 2010-12-07 14:57:00     1        6  \n",
       "2         Iceland 2010-12-07 14:57:00     1        6  \n",
       "3         Iceland 2010-12-07 14:57:00     1        6  \n",
       "4         Iceland 2010-12-07 14:57:00     1        6  "
      ]
     },
     "execution_count": 38,
     "metadata": {},
     "output_type": "execute_result"
    }
   ],
   "source": [
    "rec_freq.head()"
   ]
  },
  {
   "cell_type": "markdown",
   "id": "346cafbc-b74e-48b1-856d-9a74aa7ca762",
   "metadata": {},
   "source": [
    "## Monetary value"
   ]
  },
  {
   "cell_type": "code",
   "execution_count": 40,
   "id": "cf28a4f8-c1c3-44d3-ad34-780afabc6061",
   "metadata": {},
   "outputs": [],
   "source": [
    "rec_freq['Total']=df['Quantity']*df['UnitPrice']\n",
    "mon=rec_freq.groupby('CustomerID')['Total'].sum()\n",
    "df_mon=pd.DataFrame(mon).reset_index()\n",
    "df_mon.columns=['CustomerID','Monetary value']\n",
    "rec_freq_mon=df_mon.merge(rec_freq,on='CustomerID')"
   ]
  },
  {
   "cell_type": "code",
   "execution_count": 41,
   "id": "39f1eeb4-b6a8-4166-8401-0ecb5e9fa07c",
   "metadata": {},
   "outputs": [
    {
     "data": {
      "text/html": [
       "<div>\n",
       "<style scoped>\n",
       "    .dataframe tbody tr th:only-of-type {\n",
       "        vertical-align: middle;\n",
       "    }\n",
       "\n",
       "    .dataframe tbody tr th {\n",
       "        vertical-align: top;\n",
       "    }\n",
       "\n",
       "    .dataframe thead th {\n",
       "        text-align: right;\n",
       "    }\n",
       "</style>\n",
       "<table border=\"1\" class=\"dataframe\">\n",
       "  <thead>\n",
       "    <tr style=\"text-align: right;\">\n",
       "      <th></th>\n",
       "      <th>CustomerID</th>\n",
       "      <th>Monetary value</th>\n",
       "      <th>Frequency</th>\n",
       "      <th>InvoiceNo</th>\n",
       "      <th>StockCode</th>\n",
       "      <th>Description</th>\n",
       "      <th>Quantity</th>\n",
       "      <th>InvoiceDate</th>\n",
       "      <th>UnitPrice</th>\n",
       "      <th>Country</th>\n",
       "      <th>Date</th>\n",
       "      <th>rank</th>\n",
       "      <th>recency</th>\n",
       "      <th>Total</th>\n",
       "    </tr>\n",
       "  </thead>\n",
       "  <tbody>\n",
       "    <tr>\n",
       "      <th>0</th>\n",
       "      <td>12346.0</td>\n",
       "      <td>15.30</td>\n",
       "      <td>1</td>\n",
       "      <td>541431</td>\n",
       "      <td>23166</td>\n",
       "      <td>MEDIUM CERAMIC TOP STORAGE JAR</td>\n",
       "      <td>74215</td>\n",
       "      <td>1/18/2011 10:01</td>\n",
       "      <td>1.04</td>\n",
       "      <td>United Kingdom</td>\n",
       "      <td>2011-01-18 10:01:00</td>\n",
       "      <td>1</td>\n",
       "      <td>48</td>\n",
       "      <td>15.30</td>\n",
       "    </tr>\n",
       "    <tr>\n",
       "      <th>1</th>\n",
       "      <td>12347.0</td>\n",
       "      <td>804.25</td>\n",
       "      <td>31</td>\n",
       "      <td>537626</td>\n",
       "      <td>85116</td>\n",
       "      <td>BLACK CANDELABRA T-LIGHT HOLDER</td>\n",
       "      <td>12</td>\n",
       "      <td>12/7/2010 14:57</td>\n",
       "      <td>2.10</td>\n",
       "      <td>Iceland</td>\n",
       "      <td>2010-12-07 14:57:00</td>\n",
       "      <td>1</td>\n",
       "      <td>6</td>\n",
       "      <td>20.34</td>\n",
       "    </tr>\n",
       "    <tr>\n",
       "      <th>2</th>\n",
       "      <td>12347.0</td>\n",
       "      <td>804.25</td>\n",
       "      <td>31</td>\n",
       "      <td>537626</td>\n",
       "      <td>22375</td>\n",
       "      <td>AIRLINE BAG VINTAGE JET SET BROWN</td>\n",
       "      <td>4</td>\n",
       "      <td>12/7/2010 14:57</td>\n",
       "      <td>4.25</td>\n",
       "      <td>Iceland</td>\n",
       "      <td>2010-12-07 14:57:00</td>\n",
       "      <td>1</td>\n",
       "      <td>6</td>\n",
       "      <td>22.00</td>\n",
       "    </tr>\n",
       "    <tr>\n",
       "      <th>3</th>\n",
       "      <td>12347.0</td>\n",
       "      <td>804.25</td>\n",
       "      <td>31</td>\n",
       "      <td>537626</td>\n",
       "      <td>71477</td>\n",
       "      <td>COLOUR GLASS. STAR T-LIGHT HOLDER</td>\n",
       "      <td>12</td>\n",
       "      <td>12/7/2010 14:57</td>\n",
       "      <td>3.25</td>\n",
       "      <td>Iceland</td>\n",
       "      <td>2010-12-07 14:57:00</td>\n",
       "      <td>1</td>\n",
       "      <td>6</td>\n",
       "      <td>20.34</td>\n",
       "    </tr>\n",
       "    <tr>\n",
       "      <th>4</th>\n",
       "      <td>12347.0</td>\n",
       "      <td>804.25</td>\n",
       "      <td>31</td>\n",
       "      <td>537626</td>\n",
       "      <td>22492</td>\n",
       "      <td>MINI PAINT SET VINTAGE</td>\n",
       "      <td>36</td>\n",
       "      <td>12/7/2010 14:57</td>\n",
       "      <td>0.65</td>\n",
       "      <td>Iceland</td>\n",
       "      <td>2010-12-07 14:57:00</td>\n",
       "      <td>1</td>\n",
       "      <td>6</td>\n",
       "      <td>20.34</td>\n",
       "    </tr>\n",
       "  </tbody>\n",
       "</table>\n",
       "</div>"
      ],
      "text/plain": [
       "   CustomerID  Monetary value  Frequency InvoiceNo StockCode  \\\n",
       "0     12346.0           15.30          1    541431     23166   \n",
       "1     12347.0          804.25         31    537626     85116   \n",
       "2     12347.0          804.25         31    537626     22375   \n",
       "3     12347.0          804.25         31    537626     71477   \n",
       "4     12347.0          804.25         31    537626     22492   \n",
       "\n",
       "                         Description  Quantity      InvoiceDate  UnitPrice  \\\n",
       "0     MEDIUM CERAMIC TOP STORAGE JAR     74215  1/18/2011 10:01       1.04   \n",
       "1    BLACK CANDELABRA T-LIGHT HOLDER        12  12/7/2010 14:57       2.10   \n",
       "2  AIRLINE BAG VINTAGE JET SET BROWN         4  12/7/2010 14:57       4.25   \n",
       "3  COLOUR GLASS. STAR T-LIGHT HOLDER        12  12/7/2010 14:57       3.25   \n",
       "4            MINI PAINT SET VINTAGE         36  12/7/2010 14:57       0.65   \n",
       "\n",
       "          Country                Date  rank  recency  Total  \n",
       "0  United Kingdom 2011-01-18 10:01:00     1       48  15.30  \n",
       "1         Iceland 2010-12-07 14:57:00     1        6  20.34  \n",
       "2         Iceland 2010-12-07 14:57:00     1        6  22.00  \n",
       "3         Iceland 2010-12-07 14:57:00     1        6  20.34  \n",
       "4         Iceland 2010-12-07 14:57:00     1        6  20.34  "
      ]
     },
     "execution_count": 41,
     "metadata": {},
     "output_type": "execute_result"
    }
   ],
   "source": [
    "rec_freq_mon.head()"
   ]
  },
  {
   "cell_type": "code",
   "execution_count": 43,
   "id": "457cd8a0-897d-4edb-be77-5ef311c7d108",
   "metadata": {},
   "outputs": [],
   "source": [
    "finaldf=rec_freq_mon[['CustomerID','recency','Frequency','Monetary value']]"
   ]
  },
  {
   "cell_type": "code",
   "execution_count": 46,
   "id": "a30f3742-da7c-40cc-9244-aa69fddd5a7b",
   "metadata": {},
   "outputs": [
    {
     "data": {
      "text/html": [
       "<div>\n",
       "<style scoped>\n",
       "    .dataframe tbody tr th:only-of-type {\n",
       "        vertical-align: middle;\n",
       "    }\n",
       "\n",
       "    .dataframe tbody tr th {\n",
       "        vertical-align: top;\n",
       "    }\n",
       "\n",
       "    .dataframe thead th {\n",
       "        text-align: right;\n",
       "    }\n",
       "</style>\n",
       "<table border=\"1\" class=\"dataframe\">\n",
       "  <thead>\n",
       "    <tr style=\"text-align: right;\">\n",
       "      <th></th>\n",
       "      <th>CustomerID</th>\n",
       "      <th>recency</th>\n",
       "      <th>Frequency</th>\n",
       "      <th>Monetary value</th>\n",
       "    </tr>\n",
       "  </thead>\n",
       "  <tbody>\n",
       "    <tr>\n",
       "      <th>100790</th>\n",
       "      <td>18287.0</td>\n",
       "      <td>172</td>\n",
       "      <td>29</td>\n",
       "      <td>127.11</td>\n",
       "    </tr>\n",
       "    <tr>\n",
       "      <th>100791</th>\n",
       "      <td>18287.0</td>\n",
       "      <td>172</td>\n",
       "      <td>29</td>\n",
       "      <td>127.11</td>\n",
       "    </tr>\n",
       "    <tr>\n",
       "      <th>100792</th>\n",
       "      <td>18287.0</td>\n",
       "      <td>172</td>\n",
       "      <td>29</td>\n",
       "      <td>127.11</td>\n",
       "    </tr>\n",
       "    <tr>\n",
       "      <th>100793</th>\n",
       "      <td>18287.0</td>\n",
       "      <td>172</td>\n",
       "      <td>29</td>\n",
       "      <td>127.11</td>\n",
       "    </tr>\n",
       "    <tr>\n",
       "      <th>100794</th>\n",
       "      <td>18287.0</td>\n",
       "      <td>172</td>\n",
       "      <td>29</td>\n",
       "      <td>127.11</td>\n",
       "    </tr>\n",
       "    <tr>\n",
       "      <th>100795</th>\n",
       "      <td>18287.0</td>\n",
       "      <td>172</td>\n",
       "      <td>29</td>\n",
       "      <td>127.11</td>\n",
       "    </tr>\n",
       "    <tr>\n",
       "      <th>100796</th>\n",
       "      <td>18287.0</td>\n",
       "      <td>172</td>\n",
       "      <td>29</td>\n",
       "      <td>127.11</td>\n",
       "    </tr>\n",
       "    <tr>\n",
       "      <th>100797</th>\n",
       "      <td>18287.0</td>\n",
       "      <td>172</td>\n",
       "      <td>29</td>\n",
       "      <td>127.11</td>\n",
       "    </tr>\n",
       "    <tr>\n",
       "      <th>100798</th>\n",
       "      <td>18287.0</td>\n",
       "      <td>172</td>\n",
       "      <td>29</td>\n",
       "      <td>127.11</td>\n",
       "    </tr>\n",
       "    <tr>\n",
       "      <th>100799</th>\n",
       "      <td>18287.0</td>\n",
       "      <td>172</td>\n",
       "      <td>29</td>\n",
       "      <td>127.11</td>\n",
       "    </tr>\n",
       "    <tr>\n",
       "      <th>100800</th>\n",
       "      <td>18287.0</td>\n",
       "      <td>172</td>\n",
       "      <td>29</td>\n",
       "      <td>127.11</td>\n",
       "    </tr>\n",
       "    <tr>\n",
       "      <th>100801</th>\n",
       "      <td>18287.0</td>\n",
       "      <td>172</td>\n",
       "      <td>29</td>\n",
       "      <td>127.11</td>\n",
       "    </tr>\n",
       "    <tr>\n",
       "      <th>100802</th>\n",
       "      <td>18287.0</td>\n",
       "      <td>172</td>\n",
       "      <td>29</td>\n",
       "      <td>127.11</td>\n",
       "    </tr>\n",
       "    <tr>\n",
       "      <th>100803</th>\n",
       "      <td>18287.0</td>\n",
       "      <td>172</td>\n",
       "      <td>29</td>\n",
       "      <td>127.11</td>\n",
       "    </tr>\n",
       "    <tr>\n",
       "      <th>100804</th>\n",
       "      <td>18287.0</td>\n",
       "      <td>172</td>\n",
       "      <td>29</td>\n",
       "      <td>127.11</td>\n",
       "    </tr>\n",
       "    <tr>\n",
       "      <th>100805</th>\n",
       "      <td>18287.0</td>\n",
       "      <td>172</td>\n",
       "      <td>29</td>\n",
       "      <td>127.11</td>\n",
       "    </tr>\n",
       "    <tr>\n",
       "      <th>100806</th>\n",
       "      <td>18287.0</td>\n",
       "      <td>172</td>\n",
       "      <td>29</td>\n",
       "      <td>127.11</td>\n",
       "    </tr>\n",
       "    <tr>\n",
       "      <th>100807</th>\n",
       "      <td>18287.0</td>\n",
       "      <td>172</td>\n",
       "      <td>29</td>\n",
       "      <td>127.11</td>\n",
       "    </tr>\n",
       "    <tr>\n",
       "      <th>100808</th>\n",
       "      <td>18287.0</td>\n",
       "      <td>172</td>\n",
       "      <td>29</td>\n",
       "      <td>127.11</td>\n",
       "    </tr>\n",
       "    <tr>\n",
       "      <th>100809</th>\n",
       "      <td>18287.0</td>\n",
       "      <td>172</td>\n",
       "      <td>29</td>\n",
       "      <td>127.11</td>\n",
       "    </tr>\n",
       "  </tbody>\n",
       "</table>\n",
       "</div>"
      ],
      "text/plain": [
       "        CustomerID  recency  Frequency  Monetary value\n",
       "100790     18287.0      172         29          127.11\n",
       "100791     18287.0      172         29          127.11\n",
       "100792     18287.0      172         29          127.11\n",
       "100793     18287.0      172         29          127.11\n",
       "100794     18287.0      172         29          127.11\n",
       "100795     18287.0      172         29          127.11\n",
       "100796     18287.0      172         29          127.11\n",
       "100797     18287.0      172         29          127.11\n",
       "100798     18287.0      172         29          127.11\n",
       "100799     18287.0      172         29          127.11\n",
       "100800     18287.0      172         29          127.11\n",
       "100801     18287.0      172         29          127.11\n",
       "100802     18287.0      172         29          127.11\n",
       "100803     18287.0      172         29          127.11\n",
       "100804     18287.0      172         29          127.11\n",
       "100805     18287.0      172         29          127.11\n",
       "100806     18287.0      172         29          127.11\n",
       "100807     18287.0      172         29          127.11\n",
       "100808     18287.0      172         29          127.11\n",
       "100809     18287.0      172         29          127.11"
      ]
     },
     "execution_count": 46,
     "metadata": {},
     "output_type": "execute_result"
    }
   ],
   "source": [
    "finaldf.tail(20)"
   ]
  },
  {
   "cell_type": "markdown",
   "id": "ca6d2f38-d6cd-413c-8e48-9628b4591294",
   "metadata": {},
   "source": [
    "## Identifying Outliers\n"
   ]
  },
  {
   "cell_type": "code",
   "execution_count": 66,
   "id": "65ee345e-eb5e-4dcc-81e3-dee823d41695",
   "metadata": {},
   "outputs": [
    {
     "name": "stdout",
     "output_type": "stream",
     "text": [
      "recency:\n"
     ]
    },
    {
     "data": {
      "image/png": "[encoded data removed]",
      "text/plain": [
       "<Figure size 640x480 with 1 Axes>"
      ]
     },
     "metadata": {},
     "output_type": "display_data"
    },
    {
     "name": "stdout",
     "output_type": "stream",
     "text": [
      "Frequency:\n"
     ]
    },
    {
     "data": {
      "image/png": "[encoded data removed]",
      "text/plain": [
       "<Figure size 640x480 with 1 Axes>"
      ]
     },
     "metadata": {},
     "output_type": "display_data"
    },
    {
     "name": "stdout",
     "output_type": "stream",
     "text": [
      "Monetary value:\n"
     ]
    },
    {
     "data": {
      "image/png": "[encoded data removed]",
      "text/plain": [
       "<Figure size 640x480 with 1 Axes>"
      ]
     },
     "metadata": {},
     "output_type": "display_data"
    }
   ],
   "source": [
    "import seaborn as sns\n",
    "import matplotlib.pyplot as plt\n",
    "list=['recency','Frequency','Monetary value']\n",
    "for i in list:\n",
    "    print(str(i)+':')\n",
    "    ax=sns.boxplot(x=finaldf[str(i)])\n",
    "    plt.show()\n",
    "    "
   ]
  },
  {
   "cell_type": "markdown",
   "id": "1821201d-369e-4733-90a7-f237bb732ae9",
   "metadata": {},
   "source": [
    "## Removing Outliers"
   ]
  },
  {
   "cell_type": "code",
   "execution_count": 67,
   "id": "61425833-d727-4880-9e59-9c7cb9ddf31e",
   "metadata": {},
   "outputs": [],
   "source": [
    "Q1 = new_df.quantile(0.25)  # First quartile (25th percentile)\n",
    "Q3 = new_df.quantile(0.75)  # Third quartile (75th percentile)\n",
    "IQR = Q3 - Q1  # Interquartile range\n",
    "\n",
    "# Define lower and upper bounds\n",
    "lower_bound = Q1 - 1.5 * IQR\n",
    "upper_bound = Q3 + 1.5 * IQR\n",
    "\n",
    "# Filter outliers\n",
    "new_df= new_df[(new_df >= lower_bound) & (new_df <= upper_bound)].dropna()\n"
   ]
  },
  {
   "cell_type": "code",
   "execution_count": 68,
   "id": "c3980e1f-00bb-4beb-885e-b7849797e3b6",
   "metadata": {},
   "outputs": [
    {
     "name": "stdout",
     "output_type": "stream",
     "text": [
      "recency:\n"
     ]
    },
    {
     "data": {
      "image/png": "[encoded data removed]",
      "text/plain": [
       "<Figure size 640x480 with 1 Axes>"
      ]
     },
     "metadata": {},
     "output_type": "display_data"
    },
    {
     "name": "stdout",
     "output_type": "stream",
     "text": [
      "Frequency:\n"
     ]
    },
    {
     "data": {
      "image/png": "[encoded data removed]",
      "text/plain": [
       "<Figure size 640x480 with 1 Axes>"
      ]
     },
     "metadata": {},
     "output_type": "display_data"
    },
    {
     "name": "stdout",
     "output_type": "stream",
     "text": [
      "Monetary value:\n"
     ]
    },
    {
     "data": {
      "image/png": "[encoded data removed]",
      "text/plain": [
       "<Figure size 640x480 with 1 Axes>"
      ]
     },
     "metadata": {},
     "output_type": "display_data"
    }
   ],
   "source": [
    "list1=['recency','Frequency','Monetary value']\n",
    "for i in list1:\n",
    "    print(str(i)+\":\")\n",
    "    ax=sns.boxplot(x=new_df[str(i)])\n",
    "    plt.show()\n"
   ]
  },
  {
   "cell_type": "markdown",
   "id": "a8d2ed25-1dee-4b8d-b613-3fde2dfb4a02",
   "metadata": {},
   "source": [
    "## Standardization"
   ]
  },
  {
   "cell_type": "code",
   "execution_count": 73,
   "id": "37ae0238-178f-4702-b09c-f6676cb6445d",
   "metadata": {},
   "outputs": [],
   "source": [
    "from sklearn.preprocessing import StandardScaler\n",
    "new_df=new_df.drop_duplicates()\n",
    "cols=['recency','Frequency','Monetary value']\n",
    "features=new_df[cols]\n",
    "scaler = StandardScaler().fit(features.values)\n",
    "features=scaler.transform(features.values)"
   ]
  },
  {
   "cell_type": "code",
   "execution_count": 74,
   "id": "871817e9-3695-478d-bfc7-17a215128870",
   "metadata": {},
   "outputs": [],
   "source": [
    "scaled_features=pd.DataFrame(features,columns=cols)"
   ]
  },
  {
   "cell_type": "code",
   "execution_count": 75,
   "id": "17f119d2-c37d-4e5a-9c10-19f43459ac09",
   "metadata": {},
   "outputs": [
    {
     "data": {
      "text/html": [
       "<div>\n",
       "<style scoped>\n",
       "    .dataframe tbody tr th:only-of-type {\n",
       "        vertical-align: middle;\n",
       "    }\n",
       "\n",
       "    .dataframe tbody tr th {\n",
       "        vertical-align: top;\n",
       "    }\n",
       "\n",
       "    .dataframe thead th {\n",
       "        text-align: right;\n",
       "    }\n",
       "</style>\n",
       "<table border=\"1\" class=\"dataframe\">\n",
       "  <thead>\n",
       "    <tr style=\"text-align: right;\">\n",
       "      <th></th>\n",
       "      <th>recency</th>\n",
       "      <th>Frequency</th>\n",
       "      <th>Monetary value</th>\n",
       "    </tr>\n",
       "  </thead>\n",
       "  <tbody>\n",
       "    <tr>\n",
       "      <th>0</th>\n",
       "      <td>-0.853481</td>\n",
       "      <td>-1.278231</td>\n",
       "      <td>-1.002484</td>\n",
       "    </tr>\n",
       "    <tr>\n",
       "      <th>1</th>\n",
       "      <td>-1.209758</td>\n",
       "      <td>0.503196</td>\n",
       "      <td>1.766496</td>\n",
       "    </tr>\n",
       "    <tr>\n",
       "      <th>2</th>\n",
       "      <td>-1.133413</td>\n",
       "      <td>-0.328137</td>\n",
       "      <td>1.718097</td>\n",
       "    </tr>\n",
       "    <tr>\n",
       "      <th>3</th>\n",
       "      <td>-0.726239</td>\n",
       "      <td>-0.328137</td>\n",
       "      <td>-0.732062</td>\n",
       "    </tr>\n",
       "    <tr>\n",
       "      <th>4</th>\n",
       "      <td>-0.607479</td>\n",
       "      <td>-0.446899</td>\n",
       "      <td>0.729413</td>\n",
       "    </tr>\n",
       "  </tbody>\n",
       "</table>\n",
       "</div>"
      ],
      "text/plain": [
       "    recency  Frequency  Monetary value\n",
       "0 -0.853481  -1.278231       -1.002484\n",
       "1 -1.209758   0.503196        1.766496\n",
       "2 -1.133413  -0.328137        1.718097\n",
       "3 -0.726239  -0.328137       -0.732062\n",
       "4 -0.607479  -0.446899        0.729413"
      ]
     },
     "execution_count": 75,
     "metadata": {},
     "output_type": "execute_result"
    }
   ],
   "source": [
    "scaled_features.head()"
   ]
  },
  {
   "cell_type": "code",
   "execution_count": 87,
   "id": "fdbf7914-a611-4c62-8b06-f885ea60889a",
   "metadata": {},
   "outputs": [
    {
     "name": "stderr",
     "output_type": "stream",
     "text": [
      "C:\\Users\\Hp\\anaconda3\\anaconda\\Lib\\site-packages\\sklearn\\cluster\\_kmeans.py:870: FutureWarning: The default value of `n_init` will change from 10 to 'auto' in 1.4. Set the value of `n_init` explicitly to suppress the warning\n",
      "  warnings.warn(\n"
     ]
    },
    {
     "data": {
      "text/html": [
       "<style>#sk-container-id-5 {color: black;background-color: white;}#sk-container-id-5 pre{padding: 0;}#sk-container-id-5 div.sk-toggleable {background-color: white;}#sk-container-id-5 label.sk-toggleable__label {cursor: pointer;display: block;width: 100%;margin-bottom: 0;padding: 0.3em;box-sizing: border-box;text-align: center;}#sk-container-id-5 label.sk-toggleable__label-arrow:before {content: \"▸\";float: left;margin-right: 0.25em;color: #696969;}#sk-container-id-5 label.sk-toggleable__label-arrow:hover:before {color: black;}#sk-container-id-5 div.sk-estimator:hover label.sk-toggleable__label-arrow:before {color: black;}#sk-container-id-5 div.sk-toggleable__content {max-height: 0;max-width: 0;overflow: hidden;text-align: left;background-color: #f0f8ff;}#sk-container-id-5 div.sk-toggleable__content pre {margin: 0.2em;color: black;border-radius: 0.25em;background-color: #f0f8ff;}#sk-container-id-5 input.sk-toggleable__control:checked~div.sk-toggleable__content {max-height: 200px;max-width: 100%;overflow: auto;}#sk-container-id-5 input.sk-toggleable__control:checked~label.sk-toggleable__label-arrow:before {content: \"▾\";}#sk-container-id-5 div.sk-estimator input.sk-toggleable__control:checked~label.sk-toggleable__label {background-color: #d4ebff;}#sk-container-id-5 div.sk-label input.sk-toggleable__control:checked~label.sk-toggleable__label {background-color: #d4ebff;}#sk-container-id-5 input.sk-hidden--visually {border: 0;clip: rect(1px 1px 1px 1px);clip: rect(1px, 1px, 1px, 1px);height: 1px;margin: -1px;overflow: hidden;padding: 0;position: absolute;width: 1px;}#sk-container-id-5 div.sk-estimator {font-family: monospace;background-color: #f0f8ff;border: 1px dotted black;border-radius: 0.25em;box-sizing: border-box;margin-bottom: 0.5em;}#sk-container-id-5 div.sk-estimator:hover {background-color: #d4ebff;}#sk-container-id-5 div.sk-parallel-item::after {content: \"\";width: 100%;border-bottom: 1px solid gray;flex-grow: 1;}#sk-container-id-5 div.sk-label:hover label.sk-toggleable__label {background-color: #d4ebff;}#sk-container-id-5 div.sk-serial::before {content: \"\";position: absolute;border-left: 1px solid gray;box-sizing: border-box;top: 0;bottom: 0;left: 50%;z-index: 0;}#sk-container-id-5 div.sk-serial {display: flex;flex-direction: column;align-items: center;background-color: white;padding-right: 0.2em;padding-left: 0.2em;position: relative;}#sk-container-id-5 div.sk-item {position: relative;z-index: 1;}#sk-container-id-5 div.sk-parallel {display: flex;align-items: stretch;justify-content: center;background-color: white;position: relative;}#sk-container-id-5 div.sk-item::before, #sk-container-id-5 div.sk-parallel-item::before {content: \"\";position: absolute;border-left: 1px solid gray;box-sizing: border-box;top: 0;bottom: 0;left: 50%;z-index: -1;}#sk-container-id-5 div.sk-parallel-item {display: flex;flex-direction: column;z-index: 1;position: relative;background-color: white;}#sk-container-id-5 div.sk-parallel-item:first-child::after {align-self: flex-end;width: 50%;}#sk-container-id-5 div.sk-parallel-item:last-child::after {align-self: flex-start;width: 50%;}#sk-container-id-5 div.sk-parallel-item:only-child::after {width: 0;}#sk-container-id-5 div.sk-dashed-wrapped {border: 1px dashed gray;margin: 0 0.4em 0.5em 0.4em;box-sizing: border-box;padding-bottom: 0.4em;background-color: white;}#sk-container-id-5 div.sk-label label {font-family: monospace;font-weight: bold;display: inline-block;line-height: 1.2em;}#sk-container-id-5 div.sk-label-container {text-align: center;}#sk-container-id-5 div.sk-container {/* jupyter's `normalize.less` sets `[hidden] { display: none; }` but bootstrap.min.css set `[hidden] { display: none !important; }` so we also need the `!important` here to be able to override the default hidden behavior on the sphinx rendered scikit-learn.org. See: https://github.com/scikit-learn/scikit-learn/issues/21755 */display: inline-block !important;position: relative;}#sk-container-id-5 div.sk-text-repr-fallback {display: none;}</style><div id=\"sk-container-id-5\" class=\"sk-top-container\"><div class=\"sk-text-repr-fallback\"><pre>KMeans(n_clusters=4)</pre><b>In a Jupyter environment, please rerun this cell to show the HTML representation or trust the notebook. <br />On GitHub, the HTML representation is unable to render, please try loading this page with nbviewer.org.</b></div><div class=\"sk-container\" hidden><div class=\"sk-item\"><div class=\"sk-estimator sk-toggleable\"><input class=\"sk-toggleable__control sk-hidden--visually\" id=\"sk-estimator-id-5\" type=\"checkbox\" checked><label for=\"sk-estimator-id-5\" class=\"sk-toggleable__label sk-toggleable__label-arrow\">KMeans</label><div class=\"sk-toggleable__content\"><pre>KMeans(n_clusters=4)</pre></div></div></div></div></div>"
      ],
      "text/plain": [
       "KMeans(n_clusters=4)"
      ]
     },
     "execution_count": 87,
     "metadata": {},
     "output_type": "execute_result"
    }
   ],
   "source": [
    "from sklearn.cluster import KMeans\n",
    "from sklearn.metrics import silhouette_score\n",
    "\n",
    "kmeans=KMeans(n_clusters=4,init='k-means++')\n",
    "kmeans.fit(scaled_features)"
   ]
  },
  {
   "cell_type": "code",
   "execution_count": 88,
   "id": "8619fb40-7d2d-40e2-9756-12498c7d451e",
   "metadata": {},
   "outputs": [
    {
     "name": "stdout",
     "output_type": "stream",
     "text": [
      "0.37936511268519046\n"
     ]
    }
   ],
   "source": [
    "print(silhouette_score(scaled_features,kmeans.labels_,metric='euclidean'))"
   ]
  },
  {
   "cell_type": "code",
   "execution_count": 89,
   "id": "48573726-b8a0-4946-b9c7-0eb8a361bf0b",
   "metadata": {},
   "outputs": [],
   "source": [
    "pred=kmeans.predict(scaled_features)\n",
    "frame = pd.DataFrame(new_df)\n",
    "frame['cluster'] = pred"
   ]
  },
  {
   "cell_type": "code",
   "execution_count": 90,
   "id": "2b1f7631-40f5-4f3e-8539-1e4c6718e80a",
   "metadata": {},
   "outputs": [
    {
     "data": {
      "image/png": "[encoded data removed]",
      "text/plain": [
       "<Figure size 640x480 with 1 Axes>"
      ]
     },
     "metadata": {},
     "output_type": "display_data"
    },
    {
     "data": {
      "image/png": "[encoded data removed]",
      "text/plain": [
       "<Figure size 640x480 with 1 Axes>"
      ]
     },
     "metadata": {},
     "output_type": "display_data"
    },
    {
     "data": {
      "image/png": "[encoded data removed]",
      "text/plain": [
       "<Figure size 640x480 with 1 Axes>"
      ]
     },
     "metadata": {},
     "output_type": "display_data"
    }
   ],
   "source": [
    "avg_df = frame.groupby(['cluster'], as_index=False).mean()\n",
    "for i in list1:\n",
    "    sns.barplot(x='cluster',y=str(i),data=avg_df)\n",
    "    plt.show()"
   ]
  },
  {
   "cell_type": "code",
   "execution_count": null,
   "id": "a746b424-2664-4e51-a60a-8d7f0841229d",
   "metadata": {},
   "outputs": [],
   "source": []
  }
 ],
 "metadata": {
  "kernelspec": {
   "display_name": "Python 3 (ipykernel)",
   "language": "python",
   "name": "python3"
  },
  "language_info": {
   "codemirror_mode": {
    "name": "ipython",
    "version": 3
   },
   "file_extension": ".py",
   "mimetype": "text/x-python",
   "name": "python",
   "nbconvert_exporter": "python",
   "pygments_lexer": "ipython3",
   "version": "3.11.7"
  }
 },
 "nbformat": 4,
 "nbformat_minor": 5
}
